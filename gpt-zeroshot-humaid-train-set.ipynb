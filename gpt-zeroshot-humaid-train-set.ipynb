{
 "cells": [
  {
   "cell_type": "code",
   "execution_count": 1,
   "id": "ba04bcf9-32bc-4c20-b838-681fad7f4ae7",
   "metadata": {},
   "outputs": [],
   "source": [
    "from dotenv import load_dotenv; load_dotenv()\n",
    "from humaidclf import (\n",
    "    load_tsv, plan_run_dirs, LABELS, SYSTEM_PROMPT, make_user_message,\n",
    "    sync_test_sample, build_requests_jsonl_S,\n",
    "    upload_file_for_batch, create_batch, wait_for_batch, download_file_content,\n",
    "    parse_outputs_S_to_df, macro_f1, analyze_and_export_mistakes\n",
    ")\n",
    "\n",
    "# Define ZERO-SHOT rules (try multiple strings to A/B)\n",
    "RULES_DF = \"\"\"\n",
    "- caution_and_advice: Reports of warnings issued or lifted, guidance and tips related to the disaster.\n",
    "- sympathy_and_support: Tweets with prayers, thoughts, and emotional support.\n",
    "- requests_or_urgent_needs: Reports of urgent needs or supplies such as food, water, clothing, money,...\n",
    "- displaced_people_and_evacuations: People who have relocated due to the crisis, even for a short time...\n",
    "- injured_or_dead_people: Reports of injured or dead people due to the disaster.\n",
    "- missing_or_found_people: Reports of missing or found people due to the disaster.\n",
    "- infrastructure_and_utility_damage: Reports of any type of damage to infrastructure such as buildings, houses,...\n",
    "- rescue_volunteering_or_donation_effort: Reports of any type of rescue, volunteering, or donation efforts...\n",
    "- other_relevant_information: on-topic but none of the above\n",
    "- not_humanitarian: If the tweet does not convey humanitarian aid-related information.\n",
    "\"\"\"\n",
    "\n",
    "RULES_1 = \"\"\"\n",
    "- caution_and_advice: Reports of warnings issued or lifted, guidance and tips related to the disaster.\n",
    "- sympathy_and_support: Tweets with prayers, thoughts, and emotional support.\n",
    "- requests_or_urgent_needs: Reports of urgent needs or supplies such as food, water, clothing, money,...\n",
    "- displaced_people_and_evacuations: People who have relocated due to the crisis, even for a short time...\n",
    "- injured_or_dead_people: Reports of injured or dead people due to the disaster.\n",
    "- missing_or_found_people: Reports of missing or found people due to the disaster.\n",
    "- infrastructure_and_utility_damage: Reports of any type of damage to infrastructure such as buildings, houses,...\n",
    "- rescue_volunteering_or_donation_effort: Reports of any type of rescue, volunteering, or donation efforts...\n",
    "- other_relevant_information: on-topic but none of the above\n",
    "- not_humanitarian: If the tweet does not convey humanitarian aid-related information.\n",
    "\"\"\"\n",
    "\n",
    "RULES_2 = \"\"\"\n",
    "- requests_or_urgent_needs: ASKING for help/supplies/services (need/please help/send/urgent/SOS). If both ask and offer words appear, ASKING wins.\n",
    "- rescue_volunteering_or_donation_effort: OFFERING help, organizing rescues, donation drives, fundraisers, volunteering sign-ups.\n",
    "- caution_and_advice: Warnings, instructions, actionable tips (evacuate/avoid/boil water). If only prayers/solidarity words, do NOT use this.\n",
    "- displaced_people_and_evacuations: Evacuation orders, relocations, sheltering, families displaced.\n",
    "- injured_or_dead_people: Injuries, casualties, fatalities.\n",
    "- missing_or_found_people: People reported missing OR confirmed found/located/reunited. If not explicit, do NOT use this.\n",
    "- infrastructure_and_utility_damage: Physical damage or outages to roads, bridges, buildings, power, water, comms, caused by the disaster. If disaster context is unclear, prefer not_humanitarian or other_relevant_information.\n",
    "- sympathy_and_support: Prayers, thoughts, condolences, “stay strong”, morale support ONLY (no requests, offers, warnings).\n",
    "- other_relevant_information: On-topic situation info that fits none of the above (e.g., event stats, forecasts, timelines) AND is clearly disaster-related.\n",
    "- not_humanitarian: Unrelated to disasters/aid or unclear/no disaster context.\n",
    "Important:\n",
    "Only choose not_humanitarian if the tweet is totally irrelevant to diaster.\n",
    "\"\"\"\n",
    "\n",
    "RULES_3 = \"\"\"\n",
    "- caution_and_advice: Reports of warnings issued or lifted, guidance and tips related to the disaster.\n",
    "- sympathy_and_support: Tweets with prayers, thoughts, and emotional support.\n",
    "- requests_or_urgent_needs: Reports of urgent needs or supplies such as food, water, clothing, money,...\n",
    "- displaced_people_and_evacuations: People who have relocated due to the crisis, even for a short time...\n",
    "- injured_or_dead_people: Reports of injured or dead people due to the disaster.\n",
    "- missing_or_found_people: Reports of missing or found people due to the disaster.\n",
    "- infrastructure_and_utility_damage: Reports of any type of damage to infrastructure such as buildings, houses,...\n",
    "- rescue_volunteering_or_donation_effort: Reports of any type of rescue, volunteering, or donation efforts...\n",
    "- other_relevant_information: On-topic info about the disaster (facts, stats, timelines, situational updates...) that fits none of the above.\n",
    "- not_humanitarian: Use ONLY when the tweet is unrelated to disasters.\n",
    "\"\"\"\n",
    "\n",
    "RULES_4 = \"\"\"\n",
    "Goal: Choose exactly one label that best reflects the tweet’s primary intent or information.\n",
    "\n",
    "GENERAL PRINCIPLES\n",
    "- Primary intent = the main speech act or information the author conveys (who is doing what, for whom, right now).\n",
    "- If parts of a tweet point to multiple classes, pick the class with the strongest, most central signal (imperatives, first-person claims, logistics, explicit status), not simply the first match.\n",
    "- If signals are truly balanced, pick the class that would be most actionable for responders.\n",
    "\n",
    "CLASS DEFINITIONS\n",
    "- caution_and_advice: Warnings/instructions/tips about the disaster (EVACUATE, AVOID, BOIL WATER). NOT prayers/support.\n",
    "- sympathy_and_support: Prayers/thoughts/condolences/morale support ONLY. If mainly praising volunteers (no call to action), keep here.\n",
    "- requests_or_urgent_needs: ASKING for help/supplies/services (NEED, PLEASE HELP, URGENT, SOS). IF both ASK and OFFER appear → ASK WINS.\n",
    "- displaced_people_and_evacuations: Evacuation orders, relocation, sheltering, DISPLACED families/people.\n",
    "- injured_or_dead_people: Injuries, casualties, fatalities.\n",
    "- missing_or_found_people: People reported MISSING or FOUND/REUNITED (must be explicit).\n",
    "- infrastructure_and_utility_damage: Physical damage/outages to roads/bridges/buildings/power/water/comms CAUSED BY THE DISASTER (explicit or strongly implied: due to/after storm/quake/wildfire).\n",
    "- rescue_volunteering_or_donation_effort: OFFERING help, organizing rescues, donation/fundraiser drives, volunteer sign-ups, distribution events.\n",
    "- other_relevant_information: On-topic disaster info (facts, stats, timelines, situational updates, official agency/community updates) that matches NONE of the above. Treat as ON-TOPIC if event name/hashtag/location+disaster term or official update is present.\n",
    "- not_humanitarian: Use ONLY when unrelated to disasters/aid OR disaster context is absent/unclear. If on-topic cues exist but no specific class fits → choose other_relevant_information.\n",
    "\n",
    "OUTPUT\n",
    "- Return exactly one label that matches the primary intent.\n",
    "\"\"\"\n",
    "\n",
    "RULES_100 = \"\"\"\n",
    "- requests_or_urgent_needs: ASKING for help/supplies/services (need/please help/send/urgent/SOS). If both ask and offer words appear, ASKING wins.\n",
    "- rescue_volunteering_or_donation_effort: OFFERING help, organizing rescues, donation drives, fundraisers, volunteering sign-ups.\n",
    "- caution_and_advice: Warnings, instructions, actionable tips (evacuate/avoid/boil water). If only prayers/solidarity words, do NOT use this.\n",
    "- displaced_people_and_evacuations: Evacuation orders, relocations, sheltering, families displaced.\n",
    "- injured_or_dead_people: Injuries, casualties, fatalities.\n",
    "- missing_or_found_people: People reported missing OR confirmed found/located/reunited. If not explicit, do NOT use this.\n",
    "- infrastructure_and_utility_damage: Physical damage or outages to roads, bridges, buildings, power, water, comms, caused by the disaster. If disaster context is unclear, prefer not_humanitarian or other_relevant_information.\n",
    "- sympathy_and_support: Prayers, thoughts, condolences, “stay strong”, morale support ONLY (no requests, offers, warnings).\n",
    "- other_relevant_information: On-topic situation info that fits none of the above (e.g., event stats, forecasts, timelines) AND is clearly disaster-related.\n",
    "- not_humanitarian: Unrelated to disasters/aid or unclear/no disaster context.\n",
    "Tie-breakers:\n",
    "1) ASKING vs OFFERING → ASKING wins (requests_or_urgent_needs).\n",
    "2) People vs infrastructure → if injuries/casualties/missing are present, choose the people class.\n",
    "3) Sympathy vs caution → only actionable verbs → caution_and_advice; otherwise sympathy_and_support.\n",
    "4) Infra damage needs disaster context; otherwise not_humanitarian.\n",
    "\"\"\"\n",
    "\n",
    "\n"
   ]
  },
  {
   "cell_type": "markdown",
   "id": "ffde25a1-8ade-4f1c-9b1d-a877b0b929ad",
   "metadata": {},
   "source": [
    "# california_wildfires_2018 with RULES 1"
   ]
  },
  {
   "cell_type": "code",
   "execution_count": 2,
   "id": "80d0b0ab-5a2e-4a31-b45f-514f21551ca2",
   "metadata": {},
   "outputs": [
    {
     "name": "stdout",
     "output_type": "stream",
     "text": [
      "Macro-F1 (tiny sample): 0.419047619047619\n"
     ]
    },
    {
     "data": {
      "text/plain": [
       "WindowsPath('runs/california_wildfires_2018/train/gpt-4o-mini/20251018-192331-modeS-RULES1/requests.jsonl')"
      ]
     },
     "execution_count": 2,
     "metadata": {},
     "output_type": "execute_result"
    }
   ],
   "source": [
    "# 0) Load data\n",
    "dataset_path = \"Dataset/HumAID/california_wildfires_2018/california_wildfires_2018_train.tsv\"\n",
    "df = load_tsv(dataset_path)\n",
    "\n",
    "# 1) Dry-run zero-shot (Optional)\n",
    "_ = sync_test_sample(df, n=20, rules=RULES_1, model=\"gpt-4o-mini\", temperature=0.0, seed=42)\n",
    "\n",
    "# 2) Plan dir + build JSONL\n",
    "plan = plan_run_dirs(dataset_path, out_root=\"runs\", model=\"gpt-4o-mini\", tag=\"modeS-RULES1\")\n",
    "build_requests_jsonl_S(df, plan[\"requests_jsonl\"], rules=RULES_1, model=plan[\"model\"], temperature=0.0)"
   ]
  },
  {
   "cell_type": "code",
   "execution_count": 4,
   "id": "e74c60e9-8765-4863-a00c-646a0783083c",
   "metadata": {},
   "outputs": [
    {
     "name": "stdout",
     "output_type": "stream",
     "text": [
      "[batch batch_68f44bae2e888190960ec64456b9c2d2] status = validating\n",
      "[batch batch_68f44bae2e888190960ec64456b9c2d2] status = in_progress\n",
      "[batch batch_68f44bae2e888190960ec64456b9c2d2] status = in_progress\n",
      "[batch batch_68f44bae2e888190960ec64456b9c2d2] status = in_progress\n",
      "[batch batch_68f44bae2e888190960ec64456b9c2d2] status = finalizing\n",
      "[batch batch_68f44bae2e888190960ec64456b9c2d2] status = completed\n"
     ]
    }
   ],
   "source": [
    "# 3) Submit batch and wait\n",
    "fid  = upload_file_for_batch(str(plan[\"requests_jsonl\"]))\n",
    "bid  = create_batch(fid, endpoint=\"/v1/chat/completions\", completion_window=\"24h\")\n",
    "info = wait_for_batch(bid, poll_secs=300)"
   ]
  },
  {
   "cell_type": "code",
   "execution_count": 5,
   "id": "53899992-0bad-4da5-a5b9-ac1fbd355dc8",
   "metadata": {},
   "outputs": [
    {
     "name": "stdout",
     "output_type": "stream",
     "text": [
      "Macro-F1: 0.6164874649237985\n"
     ]
    }
   ],
   "source": [
    "# 4) Download + parse + save\n",
    "download_file_content(info[\"output_file_id\"], str(plan[\"outputs_jsonl\"]))\n",
    "preds = parse_outputs_S_to_df(plan[\"outputs_jsonl\"], df)\n",
    "preds.to_csv(plan[\"predictions_csv\"], index=False)\n",
    "print(\"Macro-F1:\", macro_f1(preds))"
   ]
  },
  {
   "cell_type": "code",
   "execution_count": 7,
   "id": "4485f462-a2d3-4f14-9007-c683c27e4ef7",
   "metadata": {},
   "outputs": [
    {
     "data": {
      "text/plain": [
       "{'num_total_with_truth': 5163,\n",
       " 'num_correct': 3635,\n",
       " 'num_incorrect': 1528,\n",
       " 'accuracy': np.float64(0.7040480340887081),\n",
       " 'macro_f1': 0.6164874649237986,\n",
       " 'labels': ['caution_and_advice',\n",
       "  'displaced_people_and_evacuations',\n",
       "  'infrastructure_and_utility_damage',\n",
       "  'injured_or_dead_people',\n",
       "  'missing_or_found_people',\n",
       "  'not_humanitarian',\n",
       "  'other_relevant_information',\n",
       "  'requests_or_urgent_needs',\n",
       "  'rescue_volunteering_or_donation_effort',\n",
       "  'sympathy_and_support']}"
      ]
     },
     "execution_count": 7,
     "metadata": {},
     "output_type": "execute_result"
    }
   ],
   "source": [
    "# 5) Optional: error analysis\n",
    "from pathlib import Path\n",
    "from humaidclf import analyze_and_export_mistakes\n",
    "\n",
    "# Point to the RUN folder (the one that contains predictions.csv)\n",
    "base = Path(r\"runs/california_wildfires_2018/train/gpt-4o-mini/20251018-192331-modeS-RULES1/\")\n",
    "\n",
    "pred_csv   = base / \"predictions.csv\"         # classification result\n",
    "analysis   = base / \"analysis\"                # analysis subfolder\n",
    "mistakes   = analysis / \"mistakes.csv\"        # will be created/overwritten\n",
    "chartsdir  = analysis / \"charts\"              # will be created if missing\n",
    "\n",
    "mistakes_df, summary, per_cls, conf_df = analyze_and_export_mistakes(\n",
    "    pred_csv_path=pred_csv,\n",
    "    out_mistakes_csv_path=mistakes,\n",
    "    charts_dir=chartsdir,\n",
    ")\n",
    "\n",
    "summary"
   ]
  },
  {
   "cell_type": "markdown",
   "id": "58168110-6985-43d5-a2d6-b8ca8f5c1723",
   "metadata": {},
   "source": [
    "# california_wildfires_2018 with RULES 2"
   ]
  },
  {
   "cell_type": "code",
   "execution_count": 2,
   "id": "c549f623-0ab6-4b64-8a56-09a51ea5a504",
   "metadata": {},
   "outputs": [
    {
     "name": "stdout",
     "output_type": "stream",
     "text": [
      "Macro-F1 (tiny sample): 0.36666666666666664\n"
     ]
    },
    {
     "data": {
      "text/plain": [
       "WindowsPath('runs/california_wildfires_2018/train/gpt-4o-mini/20251018-212251-modeS-RULES2/requests.jsonl')"
      ]
     },
     "execution_count": 2,
     "metadata": {},
     "output_type": "execute_result"
    }
   ],
   "source": [
    "# 0) Load data\n",
    "dataset_path = \"Dataset/HumAID/california_wildfires_2018/california_wildfires_2018_train.tsv\"\n",
    "df = load_tsv(dataset_path)\n",
    "\n",
    "# 1) Dry-run zero-shot (Optional)\n",
    "_ = sync_test_sample(df, n=20, rules=RULES_2, model=\"gpt-4o-mini\", temperature=0.0, seed=42)\n",
    "\n",
    "# 2) Plan dir + build JSONL\n",
    "plan = plan_run_dirs(dataset_path, out_root=\"runs\", model=\"gpt-4o-mini\", tag=\"modeS-RULES2\")\n",
    "build_requests_jsonl_S(df, plan[\"requests_jsonl\"], rules=RULES_2, model=plan[\"model\"], temperature=0.0)"
   ]
  },
  {
   "cell_type": "code",
   "execution_count": 3,
   "id": "054f9d72-0183-419a-831b-65e44ea9f14f",
   "metadata": {},
   "outputs": [
    {
     "name": "stdout",
     "output_type": "stream",
     "text": [
      "[batch batch_68f467c64d0081909ac9eba8c8554269] status = validating\n",
      "[batch batch_68f467c64d0081909ac9eba8c8554269] status = in_progress\n",
      "[batch batch_68f467c64d0081909ac9eba8c8554269] status = in_progress\n",
      "[batch batch_68f467c64d0081909ac9eba8c8554269] status = in_progress\n",
      "[batch batch_68f467c64d0081909ac9eba8c8554269] status = in_progress\n",
      "[batch batch_68f467c64d0081909ac9eba8c8554269] status = finalizing\n",
      "[batch batch_68f467c64d0081909ac9eba8c8554269] status = completed\n"
     ]
    }
   ],
   "source": [
    "# 3) Submit batch and wait\n",
    "fid  = upload_file_for_batch(str(plan[\"requests_jsonl\"]))\n",
    "bid  = create_batch(fid, endpoint=\"/v1/chat/completions\", completion_window=\"24h\")\n",
    "info = wait_for_batch(bid, poll_secs=300)"
   ]
  },
  {
   "cell_type": "code",
   "execution_count": 4,
   "id": "25054d36-2bec-42ee-b0e7-6adf0728d79f",
   "metadata": {},
   "outputs": [
    {
     "name": "stdout",
     "output_type": "stream",
     "text": [
      "Macro-F1: 0.6154190540025045\n"
     ]
    }
   ],
   "source": [
    "# 4) Download + parse + save\n",
    "download_file_content(info[\"output_file_id\"], str(plan[\"outputs_jsonl\"]))\n",
    "preds = parse_outputs_S_to_df(plan[\"outputs_jsonl\"], df)\n",
    "preds.to_csv(plan[\"predictions_csv\"], index=False)\n",
    "print(\"Macro-F1:\", macro_f1(preds))"
   ]
  },
  {
   "cell_type": "code",
   "execution_count": 5,
   "id": "ec49c23f-24bb-4087-bc9c-0b89b3e5d8f8",
   "metadata": {},
   "outputs": [
    {
     "data": {
      "text/plain": [
       "{'num_total_with_truth': 5163,\n",
       " 'num_correct': 3630,\n",
       " 'num_incorrect': 1533,\n",
       " 'accuracy': np.float64(0.7030796048808832),\n",
       " 'macro_f1': 0.6154190540025046,\n",
       " 'labels': ['caution_and_advice',\n",
       "  'displaced_people_and_evacuations',\n",
       "  'infrastructure_and_utility_damage',\n",
       "  'injured_or_dead_people',\n",
       "  'missing_or_found_people',\n",
       "  'not_humanitarian',\n",
       "  'other_relevant_information',\n",
       "  'requests_or_urgent_needs',\n",
       "  'rescue_volunteering_or_donation_effort',\n",
       "  'sympathy_and_support']}"
      ]
     },
     "execution_count": 5,
     "metadata": {},
     "output_type": "execute_result"
    }
   ],
   "source": [
    "# 5) Optional: error analysis\n",
    "from pathlib import Path\n",
    "from humaidclf import analyze_and_export_mistakes\n",
    "\n",
    "# Point to the RUN folder (the one that contains predictions.csv)\n",
    "base = Path(r\"runs/california_wildfires_2018/train/gpt-4o-mini/20251018-212251-modeS-RULES2/\")\n",
    "\n",
    "pred_csv   = base / \"predictions.csv\"         # classification result\n",
    "analysis   = base / \"analysis\"                # analysis subfolder\n",
    "mistakes   = analysis / \"mistakes.csv\"        # will be created/overwritten\n",
    "chartsdir  = analysis / \"charts\"              # will be created if missing\n",
    "\n",
    "mistakes_df, summary, per_cls, conf_df = analyze_and_export_mistakes(\n",
    "    pred_csv_path=pred_csv,\n",
    "    out_mistakes_csv_path=mistakes,\n",
    "    charts_dir=chartsdir,\n",
    ")\n",
    "\n",
    "summary"
   ]
  },
  {
   "cell_type": "markdown",
   "id": "725103bd-a864-4884-8760-a6b945c8b5b0",
   "metadata": {},
   "source": [
    "# california_wildfires_2018 with RULES 3"
   ]
  },
  {
   "cell_type": "code",
   "execution_count": 3,
   "id": "434e9e9c-8d7e-423f-848e-aa98de9fcfc1",
   "metadata": {},
   "outputs": [
    {
     "name": "stdout",
     "output_type": "stream",
     "text": [
      "Macro-F1 (tiny sample): 0.5868893011750155\n"
     ]
    },
    {
     "data": {
      "text/plain": [
       "WindowsPath('runs/california_wildfires_2018/train/gpt-4o-mini/20251018-220846-modeS-RULES3/requests.jsonl')"
      ]
     },
     "execution_count": 3,
     "metadata": {},
     "output_type": "execute_result"
    }
   ],
   "source": [
    "# 0) Load data\n",
    "dataset_path = \"Dataset/HumAID/california_wildfires_2018/california_wildfires_2018_train.tsv\"\n",
    "df = load_tsv(dataset_path)\n",
    "\n",
    "# 1) Dry-run zero-shot (Optional)\n",
    "_ = sync_test_sample(df, n=20, rules=RULES_3, model=\"gpt-4o-mini\", temperature=0.0, seed=42)\n",
    "\n",
    "# 2) Plan dir + build JSONL\n",
    "plan = plan_run_dirs(dataset_path, out_root=\"runs\", model=\"gpt-4o-mini\", tag=\"modeS-RULES3\")\n",
    "build_requests_jsonl_S(df, plan[\"requests_jsonl\"], rules=RULES_3, model=plan[\"model\"], temperature=0.0)"
   ]
  },
  {
   "cell_type": "code",
   "execution_count": 4,
   "id": "81a2f475-1af3-441f-82d6-14fe8caac4db",
   "metadata": {},
   "outputs": [
    {
     "name": "stdout",
     "output_type": "stream",
     "text": [
      "[batch batch_68f47284f4b48190bf65c0b3d88a8453] status = validating\n",
      "[batch batch_68f47284f4b48190bf65c0b3d88a8453] status = in_progress\n",
      "[batch batch_68f47284f4b48190bf65c0b3d88a8453] status = in_progress\n",
      "[batch batch_68f47284f4b48190bf65c0b3d88a8453] status = in_progress\n",
      "[batch batch_68f47284f4b48190bf65c0b3d88a8453] status = in_progress\n",
      "[batch batch_68f47284f4b48190bf65c0b3d88a8453] status = finalizing\n",
      "[batch batch_68f47284f4b48190bf65c0b3d88a8453] status = finalizing\n",
      "[batch batch_68f47284f4b48190bf65c0b3d88a8453] status = finalizing\n",
      "[batch batch_68f47284f4b48190bf65c0b3d88a8453] status = completed\n"
     ]
    }
   ],
   "source": [
    "# 3) Submit batch and wait\n",
    "fid  = upload_file_for_batch(str(plan[\"requests_jsonl\"]))\n",
    "bid  = create_batch(fid, endpoint=\"/v1/chat/completions\", completion_window=\"24h\")\n",
    "info = wait_for_batch(bid, poll_secs=300)"
   ]
  },
  {
   "cell_type": "code",
   "execution_count": 5,
   "id": "ad81dae2-54fd-43c7-8960-e9bf7b77638e",
   "metadata": {},
   "outputs": [
    {
     "name": "stdout",
     "output_type": "stream",
     "text": [
      "Macro-F1: 0.6189517882011742\n"
     ]
    }
   ],
   "source": [
    "# 4) Download + parse + save\n",
    "download_file_content(info[\"output_file_id\"], str(plan[\"outputs_jsonl\"]))\n",
    "preds = parse_outputs_S_to_df(plan[\"outputs_jsonl\"], df)\n",
    "preds.to_csv(plan[\"predictions_csv\"], index=False)\n",
    "print(\"Macro-F1:\", macro_f1(preds))"
   ]
  },
  {
   "cell_type": "code",
   "execution_count": 6,
   "id": "10d8b9f6-2a82-46ef-b4c1-51f5255a33a2",
   "metadata": {},
   "outputs": [
    {
     "data": {
      "text/plain": [
       "{'num_total_with_truth': 5163,\n",
       " 'num_correct': 3635,\n",
       " 'num_incorrect': 1528,\n",
       " 'accuracy': np.float64(0.7040480340887081),\n",
       " 'macro_f1': 0.6189517882011742,\n",
       " 'labels': ['caution_and_advice',\n",
       "  'displaced_people_and_evacuations',\n",
       "  'infrastructure_and_utility_damage',\n",
       "  'injured_or_dead_people',\n",
       "  'missing_or_found_people',\n",
       "  'not_humanitarian',\n",
       "  'other_relevant_information',\n",
       "  'requests_or_urgent_needs',\n",
       "  'rescue_volunteering_or_donation_effort',\n",
       "  'sympathy_and_support']}"
      ]
     },
     "execution_count": 6,
     "metadata": {},
     "output_type": "execute_result"
    }
   ],
   "source": [
    "# 5) Optional: error analysis\n",
    "from pathlib import Path\n",
    "from humaidclf import analyze_and_export_mistakes\n",
    "\n",
    "# Point to the RUN folder (the one that contains predictions.csv)\n",
    "base = Path(r\"runs/california_wildfires_2018/train/gpt-4o-mini/20251018-220846-modeS-RULES3/\")\n",
    "\n",
    "pred_csv   = base / \"predictions.csv\"         # classification result\n",
    "analysis   = base / \"analysis\"                # analysis subfolder\n",
    "mistakes   = analysis / \"mistakes.csv\"        # will be created/overwritten\n",
    "chartsdir  = analysis / \"charts\"              # will be created if missing\n",
    "\n",
    "mistakes_df, summary, per_cls, conf_df = analyze_and_export_mistakes(\n",
    "    pred_csv_path=pred_csv,\n",
    "    out_mistakes_csv_path=mistakes,\n",
    "    charts_dir=chartsdir,\n",
    ")\n",
    "\n",
    "summary"
   ]
  },
  {
   "cell_type": "markdown",
   "id": "f74d433d-fea9-4def-ba5a-e018aa741aed",
   "metadata": {},
   "source": [
    "# california_wildfires_2018 with RULES 4"
   ]
  },
  {
   "cell_type": "code",
   "execution_count": 2,
   "id": "2dc94d89-2425-424e-a9d5-cc8233df41ac",
   "metadata": {},
   "outputs": [
    {
     "name": "stdout",
     "output_type": "stream",
     "text": [
      "Macro-F1 (tiny sample): 0.4571428571428572\n"
     ]
    },
    {
     "data": {
      "text/plain": [
       "WindowsPath('runs/california_wildfires_2018/train/gpt-4o-mini/20251018-231232-modeS-RULES4/requests.jsonl')"
      ]
     },
     "execution_count": 2,
     "metadata": {},
     "output_type": "execute_result"
    }
   ],
   "source": [
    "# 0) Load data\n",
    "dataset_path = \"Dataset/HumAID/california_wildfires_2018/california_wildfires_2018_train.tsv\"\n",
    "df = load_tsv(dataset_path)\n",
    "\n",
    "# 1) Dry-run zero-shot\n",
    "_ = sync_test_sample(df, n=20, rules=RULES_4, model=\"gpt-4o-mini\", temperature=0.0, seed=42)\n",
    "\n",
    "# 2) Plan dir + build JSONL\n",
    "plan = plan_run_dirs(dataset_path, out_root=\"runs\", model=\"gpt-4o-mini\", tag=\"modeS-RULES4\")\n",
    "build_requests_jsonl_S(df, plan[\"requests_jsonl\"], rules=RULES_4, model=plan[\"model\"], temperature=0.0)"
   ]
  },
  {
   "cell_type": "code",
   "execution_count": 3,
   "id": "1579156d-02bb-43b6-afdf-a1e77077a9bb",
   "metadata": {},
   "outputs": [
    {
     "name": "stdout",
     "output_type": "stream",
     "text": [
      "[batch batch_68f4815ca2c08190935b02f20318b32a] status = validating\n",
      "[batch batch_68f4815ca2c08190935b02f20318b32a] status = in_progress\n",
      "[batch batch_68f4815ca2c08190935b02f20318b32a] status = in_progress\n",
      "[batch batch_68f4815ca2c08190935b02f20318b32a] status = in_progress\n",
      "[batch batch_68f4815ca2c08190935b02f20318b32a] status = in_progress\n",
      "[batch batch_68f4815ca2c08190935b02f20318b32a] status = in_progress\n",
      "[batch batch_68f4815ca2c08190935b02f20318b32a] status = in_progress\n",
      "[batch batch_68f4815ca2c08190935b02f20318b32a] status = in_progress\n",
      "[batch batch_68f4815ca2c08190935b02f20318b32a] status = finalizing\n",
      "[batch batch_68f4815ca2c08190935b02f20318b32a] status = finalizing\n",
      "[batch batch_68f4815ca2c08190935b02f20318b32a] status = completed\n",
      "Macro-F1: 0.6142976145425036\n"
     ]
    }
   ],
   "source": [
    "# 3) Submit batch and wait\n",
    "fid  = upload_file_for_batch(str(plan[\"requests_jsonl\"]))\n",
    "bid  = create_batch(fid, endpoint=\"/v1/chat/completions\", completion_window=\"24h\")\n",
    "info = wait_for_batch(bid, poll_secs=300)\n",
    "\n",
    "# 4) Download + parse + save\n",
    "download_file_content(info[\"output_file_id\"], str(plan[\"outputs_jsonl\"]))\n",
    "preds = parse_outputs_S_to_df(plan[\"outputs_jsonl\"], df)\n",
    "preds.to_csv(plan[\"predictions_csv\"], index=False)\n",
    "print(\"Macro-F1:\", macro_f1(preds))"
   ]
  },
  {
   "cell_type": "code",
   "execution_count": 4,
   "id": "87be9bae-d263-4052-98a8-42ae98b2ee4c",
   "metadata": {},
   "outputs": [
    {
     "data": {
      "text/plain": [
       "{'num_total_with_truth': 5163,\n",
       " 'num_correct': 3560,\n",
       " 'num_incorrect': 1603,\n",
       " 'accuracy': np.float64(0.6895215959713344),\n",
       " 'macro_f1': 0.6142976145425038,\n",
       " 'labels': ['caution_and_advice',\n",
       "  'displaced_people_and_evacuations',\n",
       "  'infrastructure_and_utility_damage',\n",
       "  'injured_or_dead_people',\n",
       "  'missing_or_found_people',\n",
       "  'not_humanitarian',\n",
       "  'other_relevant_information',\n",
       "  'requests_or_urgent_needs',\n",
       "  'rescue_volunteering_or_donation_effort',\n",
       "  'sympathy_and_support']}"
      ]
     },
     "execution_count": 4,
     "metadata": {},
     "output_type": "execute_result"
    }
   ],
   "source": [
    "# 5) Optional: error analysis\n",
    "from pathlib import Path\n",
    "from humaidclf import analyze_and_export_mistakes\n",
    "\n",
    "# Point to the RUN folder (the one that contains predictions.csv)\n",
    "base = Path(r\"runs/california_wildfires_2018/train/gpt-4o-mini/20251018-231232-modeS-RULES4/\")\n",
    "\n",
    "pred_csv   = base / \"predictions.csv\"         # classification result\n",
    "analysis   = base / \"analysis\"                # analysis subfolder\n",
    "mistakes   = analysis / \"mistakes.csv\"        # will be created/overwritten\n",
    "chartsdir  = analysis / \"charts\"              # will be created if missing\n",
    "\n",
    "mistakes_df, summary, per_cls, conf_df = analyze_and_export_mistakes(\n",
    "    pred_csv_path=pred_csv,\n",
    "    out_mistakes_csv_path=mistakes,\n",
    "    charts_dir=chartsdir,\n",
    ")\n",
    "\n",
    "summary"
   ]
  },
  {
   "cell_type": "markdown",
   "id": "abff5a79-3b97-44b0-8b9d-a3fb041c60d6",
   "metadata": {},
   "source": [
    "# california_wildfires_2018 with RULES DF (Exactly the same with the rules in Imran paper)"
   ]
  },
  {
   "cell_type": "code",
   "execution_count": 8,
   "id": "f7bf9672-7d85-45ce-b716-d2729d99c640",
   "metadata": {},
   "outputs": [
    {
     "name": "stdout",
     "output_type": "stream",
     "text": [
      "Macro-F1 (tiny sample): 0.45188145188145185\n"
     ]
    },
    {
     "data": {
      "text/plain": [
       "WindowsPath('runs/california_wildfires_2018/train/gpt-4o-mini/20251018-132622-modeS-RULES/requests.jsonl')"
      ]
     },
     "execution_count": 8,
     "metadata": {},
     "output_type": "execute_result"
    }
   ],
   "source": [
    "# 0) Load data\n",
    "dataset_path = \"Dataset/HumAID/california_wildfires_2018/california_wildfires_2018_train.tsv\"\n",
    "df = load_tsv(dataset_path)\n",
    "\n",
    "# 1) Dry-run zero-shot\n",
    "_ = sync_test_sample(df, n=20, rules=RULES_1, model=\"gpt-4o-mini\", temperature=0.0, seed=42)\n",
    "\n",
    "# 2) Plan dir + build JSONL\n",
    "plan = plan_run_dirs(dataset_path, out_root=\"runs\", model=\"gpt-4o-mini\", tag=\"modeS-RULESDF\")\n",
    "build_requests_jsonl_S(df, plan[\"requests_jsonl\"], rules=RULES_DF, model=plan[\"model\"], temperature=0.0)"
   ]
  },
  {
   "cell_type": "code",
   "execution_count": null,
   "id": "7f994788-6bd7-4e20-85ff-1adda0cfc108",
   "metadata": {},
   "outputs": [],
   "source": [
    "# 3) Submit batch and wait\n",
    "fid  = upload_file_for_batch(str(plan[\"requests_jsonl\"]))\n",
    "bid  = create_batch(fid, endpoint=\"/v1/chat/completions\", completion_window=\"24h\")\n",
    "info = wait_for_batch(bid, poll_secs=300)\n",
    "\n",
    "# 4) Download + parse + save\n",
    "download_file_content(info[\"output_file_id\"], str(plan[\"outputs_jsonl\"]))\n",
    "preds = parse_outputs_S_to_df(plan[\"outputs_jsonl\"], df)\n",
    "preds.to_csv(plan[\"predictions_csv\"], index=False)\n",
    "print(\"Macro-F1:\", macro_f1(preds))"
   ]
  },
  {
   "cell_type": "code",
   "execution_count": 10,
   "id": "2730b43c-b856-4511-a517-72f6f089f6a8",
   "metadata": {},
   "outputs": [
    {
     "data": {
      "text/plain": [
       "{'num_total_with_truth': 5163,\n",
       " 'num_correct': 3661,\n",
       " 'num_incorrect': 1502,\n",
       " 'accuracy': np.float64(0.7090838659693977),\n",
       " 'macro_f1': 0.6022003333962889,\n",
       " 'labels': ['caution_and_advice',\n",
       "  'displaced_people_and_evacuations',\n",
       "  'infrastructure_and_utility_damage',\n",
       "  'injured_or_dead_people',\n",
       "  'missing_or_found_people',\n",
       "  'not_humanitarian',\n",
       "  'other_relevant_information',\n",
       "  'requests_or_urgent_needs',\n",
       "  'rescue_volunteering_or_donation_effort',\n",
       "  'sympathy_and_support']}"
      ]
     },
     "execution_count": 10,
     "metadata": {},
     "output_type": "execute_result"
    }
   ],
   "source": [
    "# 5) Optional: error analysis\n",
    "from pathlib import Path\n",
    "from humaidclf import analyze_and_export_mistakes\n",
    "\n",
    "# Point to the RUN folder (the one that contains predictions.csv)\n",
    "base = Path(r\"runs\\california_wildfires_2018\\train\\gpt-4o-mini\\20251018-132622-modeS-RULESDF\")\n",
    "\n",
    "pred_csv   = base / \"predictions.csv\"         # classification result\n",
    "analysis   = base / \"analysis\"                # analysis subfolder\n",
    "mistakes   = analysis / \"mistakes.csv\"        # will be created/overwritten\n",
    "chartsdir  = analysis / \"charts\"              # will be created if missing\n",
    "\n",
    "mistakes_df, summary, per_cls, conf_df = analyze_and_export_mistakes(\n",
    "    pred_csv_path=pred_csv,\n",
    "    out_mistakes_csv_path=mistakes,\n",
    "    charts_dir=chartsdir,\n",
    ")\n",
    "\n",
    "summary"
   ]
  },
  {
   "cell_type": "markdown",
   "id": "f1a3eab1-8e54-4468-bfe8-662bddd96552",
   "metadata": {},
   "source": [
    "# canada_wildfires_2016"
   ]
  },
  {
   "cell_type": "code",
   "execution_count": null,
   "id": "5c6aad49-7925-4834-8702-65e78d663f8a",
   "metadata": {},
   "outputs": [],
   "source": [
    "# 0) Load data\n",
    "dataset_path = \"Dataset/HumAID/canada_wildfires_2016/canada_wildfires_2016_train.tsv\"\n",
    "df = load_tsv(dataset_path)\n",
    "\n",
    "# 1) Dry-run zero-shot\n",
    "_ = sync_test_sample(df, n=20, rules=RULES_1, model=\"gpt-4o-mini\", temperature=0.0, seed=42)\n",
    "\n",
    "# 2) Plan dir + build JSONL\n",
    "plan = plan_run_dirs(dataset_path, out_root=\"runs\", model=\"gpt-4o-mini\", tag=\"modeS-RULES1\")\n",
    "build_requests_jsonl_S(df, plan[\"requests_jsonl\"], rules=RULES_1, model=plan[\"model\"], temperature=0.0)\n",
    "\n",
    "# 3) Submit batch and wait\n",
    "fid  = upload_file_for_batch(str(plan[\"requests_jsonl\"]))\n",
    "bid  = create_batch(fid, endpoint=\"/v1/chat/completions\", completion_window=\"24h\")\n",
    "info = wait_for_batch(bid, poll_secs=300)\n",
    "\n",
    "# 4) Download + parse + save\n",
    "download_file_content(info[\"output_file_id\"], str(plan[\"outputs_jsonl\"]))\n",
    "preds = parse_outputs_S_to_df(plan[\"outputs_jsonl\"], df)\n",
    "preds.to_csv(plan[\"predictions_csv\"], index=False)\n",
    "print(\"Macro-F1:\", macro_f1(preds))"
   ]
  },
  {
   "cell_type": "code",
   "execution_count": 5,
   "id": "1f7f6aaa-ba0d-4ef9-8e65-6fd3186491b2",
   "metadata": {},
   "outputs": [
    {
     "data": {
      "text/plain": [
       "{'num_total_with_truth': 1569,\n",
       " 'num_correct': 1227,\n",
       " 'num_incorrect': 342,\n",
       " 'accuracy': np.float64(0.7820267686424475),\n",
       " 'macro_f1': 0.5945937678829314,\n",
       " 'labels': ['caution_and_advice',\n",
       "  'displaced_people_and_evacuations',\n",
       "  'infrastructure_and_utility_damage',\n",
       "  'missing_or_found_people',\n",
       "  'not_humanitarian',\n",
       "  'other_relevant_information',\n",
       "  'requests_or_urgent_needs',\n",
       "  'rescue_volunteering_or_donation_effort',\n",
       "  'sympathy_and_support']}"
      ]
     },
     "execution_count": 5,
     "metadata": {},
     "output_type": "execute_result"
    }
   ],
   "source": [
    "# 5) Optional: error analysis\n",
    "from pathlib import Path\n",
    "from humaidclf import analyze_and_export_mistakes\n",
    "\n",
    "# Point to the RUN folder (the one that contains predictions.csv)\n",
    "base = Path(r\"runs\\canada_wildfires_2016\\train\\gpt-4o-mini\\20251017-234853-modeS-RULES1\")\n",
    "\n",
    "pred_csv   = base / \"predictions.csv\"         # classification result\n",
    "analysis   = base / \"analysis\"                # analysis subfolder\n",
    "mistakes   = analysis / \"mistakes.csv\"        # will be created/overwritten\n",
    "chartsdir  = analysis / \"charts\"              # will be created if missing\n",
    "\n",
    "mistakes_df, summary, per_cls, conf_df = analyze_and_export_mistakes(\n",
    "    pred_csv_path=pred_csv,\n",
    "    out_mistakes_csv_path=mistakes,\n",
    "    charts_dir=chartsdir,\n",
    ")\n",
    "\n",
    "summary"
   ]
  },
  {
   "cell_type": "code",
   "execution_count": null,
   "id": "ea1b807b-6689-4645-9958-9a8a0ecdf35d",
   "metadata": {},
   "outputs": [],
   "source": []
  }
 ],
 "metadata": {
  "kernelspec": {
   "display_name": "Python 3 (ipykernel)",
   "language": "python",
   "name": "python3"
  },
  "language_info": {
   "codemirror_mode": {
    "name": "ipython",
    "version": 3
   },
   "file_extension": ".py",
   "mimetype": "text/x-python",
   "name": "python",
   "nbconvert_exporter": "python",
   "pygments_lexer": "ipython3",
   "version": "3.12.8"
  }
 },
 "nbformat": 4,
 "nbformat_minor": 5
}
