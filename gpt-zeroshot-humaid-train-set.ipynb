{
 "cells": [
  {
   "cell_type": "code",
   "execution_count": null,
   "id": "ba04bcf9-32bc-4c20-b838-681fad7f4ae7",
   "metadata": {},
   "outputs": [],
   "source": [
    "from dotenv import load_dotenv; load_dotenv()\n",
    "from humaidclf import (\n",
    "    load_tsv, plan_run_dirs, LABELS, SYSTEM_PROMPT, make_user_message,\n",
    "    sync_test_sample, build_requests_jsonl_S,\n",
    "    upload_file_for_batch, create_batch, wait_for_batch, download_file_content,\n",
    "    parse_outputs_S_to_df, macro_f1, analyze_and_export_mistakes\n",
    ")\n",
    "\n",
    "# Define ZERO-SHOT rules (try multiple strings to A/B)\n",
    "RULES_1 = (\n",
    "  \"- requests_or_urgent_needs: asking for help/supplies/SOS\\n\"\n",
    "  \"- rescue_volunteering_or_donation_effort: offering help, donation, organizing aid\\n\"\n",
    "  \"- caution_and_advice: warnings/instructions/tips\\n\"\n",
    "  \"- displaced_people_and_evacuations: evacuations, relocation, shelters\\n\"\n",
    "  \"- injured_or_dead_people: injuries, casualties, fatalities\\n\"\n",
    "  \"- missing_or_found_people: missing or found persons\\n\"\n",
    "  \"- infrastructure_and_utility_damage: damage/outages to roads/bridges/power/water/buildings\\n\"\n",
    "  \"- sympathy_and_support: prayers/condolences, no actionable info\\n\"\n",
    "  \"- other_relevant_information: on-topic but none of the above\\n\"\n",
    "  \"- not_humanitarian: unrelated to disasters/aid\\n\"\n",
    "  \"Tie-break: prefer actionable class when in doubt.\"\n",
    ")\n",
    "\n",
    "RULES_2 = (\n",
    "  \"- requests_or_urgent_needs: ASKING for help/supplies/services (need/please help/send/urgent/SOS). If both ask and offer words appear, ASKING wins.\\n\"\n",
    "  \"- rescue_volunteering_or_donation_effort: OFFERING help, organizing rescues, donation drives, fundraisers, volunteering sign-ups.\\n\"\n",
    "  \"- caution_and_advice: Warnings, instructions, actionable tips (evacuate/avoid/boil water). If only prayers/solidarity words, do NOT use this.\\n\"\n",
    "  \"- displaced_people_and_evacuations: Evacuation orders, relocations, sheltering, families displaced.\\n\"\n",
    "  \"- injured_or_dead_people: Injuries, casualties, fatalities.\\n\"\n",
    "  \"- missing_or_found_people: People reported missing OR confirmed found/located/reunited. If not explicit, do NOT use this.\\n\"\n",
    "  \"- infrastructure_and_utility_damage: Physical damage or outages to roads, bridges, buildings, power, water, comms, caused by the disaster. If disaster context is unclear, prefer not_humanitarian or other_relevant_information.\\n\"\n",
    "  \"- sympathy_and_support: Prayers, thoughts, condolences, “stay strong”, morale support ONLY (no requests, offers, warnings).\\n\"\n",
    "  \"- other_relevant_information: On-topic situation info that fits none of the above (e.g., event stats, forecasts, timelines) AND is clearly disaster-related.\\n\"\n",
    "  \"- not_humanitarian: Unrelated to disasters/aid or unclear/no disaster context.\\n\"\n",
    "  \"Tie-breakers:\\n\"\n",
    "  \"1) ASKING vs OFFERING → ASKING wins (requests_or_urgent_needs).\\n\"\n",
    "  \"2) People vs infrastructure → if injuries/casualties/missing are present, choose the people class.\\n\"\n",
    "  \"3) Sympathy vs caution → only actionable verbs → caution_and_advice; otherwise sympathy_and_support.\\n\"\n",
    "  \"4) Infra damage needs disaster context; otherwise not_humanitarian.\"\n",
    ")\n",
    "\n",
    "\n"
   ]
  },
  {
   "cell_type": "markdown",
   "id": "ffde25a1-8ade-4f1c-9b1d-a877b0b929ad",
   "metadata": {},
   "source": [
    "# california_wildfires_2018"
   ]
  },
  {
   "cell_type": "code",
   "execution_count": null,
   "id": "4929f1c3-ef56-4a0a-aa76-53d6f38f660e",
   "metadata": {},
   "outputs": [],
   "source": [
    "# 0) Load data\n",
    "dataset_path = \"Dataset/HumAID/california_wildfires_2018/california_wildfires_2018_dev.tsv\"\n",
    "df = load_tsv(dataset_path)\n",
    "\n",
    "# 1) Dry-run zero-shot\n",
    "_ = sync_test_sample(df, n=20, rules=RULES_1, model=\"gpt-4o-mini\", temperature=0.0, seed=42)\n",
    "\n",
    "# 2) Plan dir + build JSONL\n",
    "plan = plan_run_dirs(dataset_path, out_root=\"runs\", model=\"gpt-4o-mini\", tag=\"modeS-RULES1\")\n",
    "build_requests_jsonl_S(df, plan[\"requests_jsonl\"], rules=RULES_1, model=plan[\"model\"], temperature=0.0)\n",
    "\n",
    "# 3) Submit batch and wait\n",
    "fid  = upload_file_for_batch(str(plan[\"requests_jsonl\"]))\n",
    "bid  = create_batch(fid, endpoint=\"/v1/chat/completions\", completion_window=\"24h\")\n",
    "info = wait_for_batch(bid, poll_secs=20)\n",
    "\n",
    "# 4) Download + parse + save\n",
    "download_file_content(info[\"output_file_id\"], str(plan[\"outputs_jsonl\"]))\n",
    "preds = parse_outputs_S_to_df(plan[\"outputs_jsonl\"], df)\n",
    "preds.to_csv(plan[\"predictions_csv\"], index=False)\n",
    "print(\"Macro-F1:\", macro_f1(preds))\n",
    "\n",
    "# 5) Optional: error analysis\n",
    "mistakes_df, summary, per_cls, conf_df = analyze_and_export_mistakes(\n",
    "    pred_csv_path=str(plan[\"predictions_csv\"]),\n",
    "    out_mistakes_csv_path=str(plan[\"dir\"] / \"mistakes.csv\"),\n",
    "    charts_dir=str(plan[\"dir\"] / \"charts\"),\n",
    ")\n",
    "summary"
   ]
  }
 ],
 "metadata": {
  "kernelspec": {
   "display_name": "Python 3 (ipykernel)",
   "language": "python",
   "name": "python3"
  },
  "language_info": {
   "codemirror_mode": {
    "name": "ipython",
    "version": 3
   },
   "file_extension": ".py",
   "mimetype": "text/x-python",
   "name": "python",
   "nbconvert_exporter": "python",
   "pygments_lexer": "ipython3",
   "version": "3.12.8"
  }
 },
 "nbformat": 4,
 "nbformat_minor": 5
}
